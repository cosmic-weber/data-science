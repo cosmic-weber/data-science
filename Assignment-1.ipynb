{
 "cells": [
  {
   "cell_type": "markdown",
   "metadata": {},
   "source": [
    "# Q-1"
   ]
  },
  {
   "cell_type": "markdown",
   "metadata": {},
   "source": [
    "B) RAINBOW"
   ]
  },
  {
   "cell_type": "markdown",
   "metadata": {},
   "source": [
    "# Q-2"
   ]
  },
  {
   "cell_type": "code",
   "execution_count": 2,
   "metadata": {},
   "outputs": [
    {
     "name": "stdout",
     "output_type": "stream",
     "text": [
      "LETS UPGRADE\n"
     ]
    }
   ],
   "source": [
    "print(\"LETS UPGRADE\")"
   ]
  },
  {
   "cell_type": "markdown",
   "metadata": {},
   "source": [
    "# Q-3"
   ]
  },
  {
   "cell_type": "code",
   "execution_count": 7,
   "metadata": {},
   "outputs": [
    {
     "name": "stdout",
     "output_type": "stream",
     "text": [
      "Enter cost price: 90\n",
      "Enter selling price: 190\n",
      "Profit\n"
     ]
    }
   ],
   "source": [
    "cost_price = int(input(\"Enter cost price: \"))\n",
    "selling_price = int(input(\"Enter selling price: \"))\n",
    "\n",
    "if cost_price < selling_price:\n",
    "    print(\"Profit\")\n",
    "elif cost_price > selling_price:\n",
    "    print(\"Loss\")\n",
    "else:\n",
    "    print(\"Neither\")"
   ]
  },
  {
   "cell_type": "markdown",
   "metadata": {},
   "source": [
    "# Q-4"
   ]
  },
  {
   "cell_type": "code",
   "execution_count": 9,
   "metadata": {},
   "outputs": [
    {
     "name": "stdout",
     "output_type": "stream",
     "text": [
      "Enter Euros: 72\n",
      "Equivalent in Rupees is:  5760\n"
     ]
    }
   ],
   "source": [
    "e = int(input(\"Enter Euros: \"))\n",
    "print(\"Equivalent in Rupees is: \", e * 80)"
   ]
  },
  {
   "cell_type": "markdown",
   "metadata": {},
   "source": [
    "# Q-5"
   ]
  },
  {
   "cell_type": "code",
   "execution_count": 10,
   "metadata": {},
   "outputs": [
    {
     "name": "stdout",
     "output_type": "stream",
     "text": [
      "2\n",
      "3\n",
      "4\n",
      "5\n",
      "6\n",
      "7\n",
      "8\n",
      "9\n",
      "12\n",
      "44\n",
      "[2, 4, 6, 8, 12, 44]\n"
     ]
    }
   ],
   "source": [
    "lst = list()\n",
    "for i in range(0,10):\n",
    "    a = int(input())\n",
    "    if a % 2 == 0:\n",
    "        lst.append(a)\n",
    "\n",
    "print(lst)"
   ]
  },
  {
   "cell_type": "markdown",
   "metadata": {},
   "source": [
    "# Q-6"
   ]
  },
  {
   "cell_type": "code",
   "execution_count": null,
   "metadata": {},
   "outputs": [],
   "source": []
  },
  {
   "cell_type": "markdown",
   "metadata": {},
   "source": [
    "# Q-7"
   ]
  },
  {
   "cell_type": "code",
   "execution_count": 15,
   "metadata": {},
   "outputs": [
    {
     "name": "stdout",
     "output_type": "stream",
     "text": [
      "Enter the number: 15\n",
      "{1: 1, 2: 4, 3: 9, 4: 16, 5: 25, 6: 36, 7: 49, 8: 64, 9: 81, 10: 100, 11: 121, 12: 144, 13: 169, 14: 196, 15: 225}\n"
     ]
    }
   ],
   "source": [
    "n = int(input(\"Enter the number: \"))\n",
    "d = { }\n",
    "for i in range(1, n + 1):\n",
    "    d[i] = i * i\n",
    "print(d)"
   ]
  },
  {
   "cell_type": "markdown",
   "metadata": {},
   "source": [
    "# Q-8"
   ]
  },
  {
   "cell_type": "code",
   "execution_count": 20,
   "metadata": {},
   "outputs": [],
   "source": [
    "import math"
   ]
  },
  {
   "cell_type": "code",
   "execution_count": 24,
   "metadata": {},
   "outputs": [
    {
     "name": "stdout",
     "output_type": "stream",
     "text": [
      "2.0\n",
      "2\n"
     ]
    }
   ],
   "source": [
    "print(math.sqrt(4))\n",
    "print(round(math.sqrt(5)))"
   ]
  },
  {
   "cell_type": "code",
   "execution_count": 30,
   "metadata": {},
   "outputs": [
    {
     "name": "stdout",
     "output_type": "stream",
     "text": [
      "Enter numeber of directions: 4\n",
      "UP 7\n",
      "DOWN 8\n",
      "LEFT 9\n",
      "RIGHT 4\n",
      "5\n"
     ]
    }
   ],
   "source": [
    "n = int(input(\"Enter numeber of directions: \"))\n",
    "lst = [\"UP\",\"DOWN\",\"LEFT\",\"RIGHT\"]\n",
    "dict = { }\n",
    "for i in range(0, n):\n",
    "    print(lst[i], end = \" \")\n",
    "    a = int(input())\n",
    "    dict[lst[i]] = a\n",
    "Y = dict[\"UP\"] - dict[\"DOWN\"]\n",
    "X = dict[\"RIGHT\"] - dict[\"LEFT\"]\n",
    "print(round(math.sqrt(X * X + Y * Y)))"
   ]
  },
  {
   "cell_type": "markdown",
   "metadata": {},
   "source": [
    "# Q-9"
   ]
  },
  {
   "cell_type": "code",
   "execution_count": 32,
   "metadata": {},
   "outputs": [],
   "source": [
    "import numpy as np"
   ]
  },
  {
   "cell_type": "code",
   "execution_count": 34,
   "metadata": {},
   "outputs": [
    {
     "data": {
      "text/plain": [
       "array([ 2,  5,  8, 11, 14, 17, 20, 23, 26, 29, 32, 35, 38, 41, 44, 47])"
      ]
     },
     "execution_count": 34,
     "metadata": {},
     "output_type": "execute_result"
    }
   ],
   "source": [
    "arr = np.arange(2, 50, 3)\n",
    "arr"
   ]
  },
  {
   "cell_type": "markdown",
   "metadata": {},
   "source": [
    "# Q-10"
   ]
  },
  {
   "cell_type": "code",
   "execution_count": 51,
   "metadata": {},
   "outputs": [
    {
     "name": "stdout",
     "output_type": "stream",
     "text": [
      "11\n",
      "43\n",
      "6\n",
      "3\n",
      "79\n",
      "33\n",
      "5\n",
      "43\n",
      "87\n",
      "34\n",
      "first list:  [11, 43, 6, 3, 79]\n",
      "second list:  [33, 5, 43, 87, 34]\n",
      "After concatenation:  [11 43  6  3 79 33  5 43 87 34]\n",
      "After sorted:  [[ 3  6 11 43 79]\n",
      " [ 5 33 34 43 87]]\n"
     ]
    }
   ],
   "source": [
    "lst1 = []\n",
    "lst2 = []\n",
    "\n",
    "for i in range(5):\n",
    "    n = int(input())\n",
    "    lst1.append(n)\n",
    "\n",
    "for j in range(5):\n",
    "    m = int(input())\n",
    "    lst2.append(m)\n",
    "print(\"first list: \", lst1)\n",
    "print(\"second list: \", lst2)\n",
    "arr1 = np.array(lst1)\n",
    "arr2 = np.array(lst2)\n",
    "arr3 = np.concatenate((arr1, arr2))\n",
    "print(\"After concatenation: \", arr3)\n",
    "print(\"After sorted: \" , np.sort((arr1, arr2)))"
   ]
  },
  {
   "cell_type": "markdown",
   "metadata": {},
   "source": [
    "# Q-11"
   ]
  },
  {
   "cell_type": "code",
   "execution_count": 56,
   "metadata": {},
   "outputs": [
    {
     "name": "stdout",
     "output_type": "stream",
     "text": [
      "[[ 1  2  3]\n",
      " [45 89 98]\n",
      " [21 34 98]]\n",
      "2\n",
      "(3, 3)\n"
     ]
    }
   ],
   "source": [
    "arr = np.array( [ [1, 2, 3], [45, 89, 98], [21, 34, 98] ] )\n",
    "print(arr)\n",
    "print(np.ndim(arr))\n",
    "print(np.shape(arr))"
   ]
  },
  {
   "cell_type": "markdown",
   "metadata": {},
   "source": [
    "# Q-12"
   ]
  },
  {
   "cell_type": "code",
   "execution_count": 63,
   "metadata": {},
   "outputs": [
    {
     "name": "stdout",
     "output_type": "stream",
     "text": [
      "[ 0  1  2  3  4  5  6  7  8  9 10 11]\n",
      "----------------\n",
      "[[ 0  1  2  3  4  5]\n",
      " [ 6  7  8  9 10 11]]\n"
     ]
    }
   ],
   "source": [
    "arr = np.arange(12)\n",
    "print(arr)\n",
    "print(\"----------------\")\n",
    "print(np.reshape(arr , (2, 6)))"
   ]
  },
  {
   "cell_type": "markdown",
   "metadata": {},
   "source": [
    "# Q-13 "
   ]
  },
  {
   "cell_type": "code",
   "execution_count": 68,
   "metadata": {},
   "outputs": [
    {
     "name": "stdout",
     "output_type": "stream",
     "text": [
      "[[12 14]\n",
      " [15 16]\n",
      " [22 24]\n",
      " [25 26]]\n",
      "-----------------\n",
      "[[12 14 22 24]\n",
      " [15 16 25 26]]\n"
     ]
    }
   ],
   "source": [
    "arr1 = np.array( [ [12, 14], [15, 16]])\n",
    "arr2 = np.array( [ [22, 24], [25, 26]])\n",
    "print(np.vstack((arr1, arr2)))\n",
    "print(\"-----------------\")\n",
    "print(np.hstack((arr1, arr2)))"
   ]
  },
  {
   "cell_type": "markdown",
   "metadata": {},
   "source": [
    "# Q-14"
   ]
  },
  {
   "cell_type": "code",
   "execution_count": 78,
   "metadata": {},
   "outputs": [
    {
     "name": "stdout",
     "output_type": "stream",
     "text": [
      "['Mon', 'Tue', 'wed', 40, 'sat', 66, 76]\n"
     ]
    }
   ],
   "source": [
    "my_lst = ['Mon', 'Tue', 'Mon', 'wed', 40, 40, 'sat', 66, 76, 76, 66, 'sat', 'Tue']\n",
    "lst = []\n",
    "for i in my_lst:\n",
    "    if i not in lst:\n",
    "        lst.append(i)\n",
    "print(lst)"
   ]
  }
 ],
 "metadata": {
  "kernelspec": {
   "display_name": "Python 3",
   "language": "python",
   "name": "python3"
  },
  "language_info": {
   "codemirror_mode": {
    "name": "ipython",
    "version": 3
   },
   "file_extension": ".py",
   "mimetype": "text/x-python",
   "name": "python",
   "nbconvert_exporter": "python",
   "pygments_lexer": "ipython3",
   "version": "3.8.5"
  }
 },
 "nbformat": 4,
 "nbformat_minor": 4
}
